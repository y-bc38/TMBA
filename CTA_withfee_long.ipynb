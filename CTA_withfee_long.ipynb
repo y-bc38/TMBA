{
 "cells": [
  {
   "cell_type": "code",
   "execution_count": 48,
   "id": "1c58bd40",
   "metadata": {},
   "outputs": [],
   "source": [
    "import numpy as np\n",
    "import pandas as pd\n",
    "import matplotlib.pyplot as plt\n",
    "from datetime import datetime,date,timedelta\n",
    "import datetime\n",
    "import time\n",
    "\n",
    "pd.set_option(\"display.max_rows\", None)\n",
    "pd.set_option(\"display.max_columns\", None)\n",
    "plt.style.use('ggplot')"
   ]
  },
  {
   "cell_type": "markdown",
   "id": "d7ecff44",
   "metadata": {},
   "source": [
    "# 公式"
   ]
  },
  {
   "cell_type": "code",
   "execution_count": 49,
   "id": "7a7252fd",
   "metadata": {},
   "outputs": [],
   "source": [
    "def dd(data, position, td):\n",
    "    \n",
    "    principal = 100000\n",
    "    fee = 150\n",
    "    \n",
    "    data['point'] = data['開盤價'].diff()\n",
    "    # data['point'][0] = 0\n",
    "    data['profit'] = np.nan\n",
    "    data['position'] = position\n",
    "    data['principal'] = np.nan\n",
    "    data['principal'][0] = principal\n",
    "\n",
    "#     # 計算部位\n",
    "#     for i in range(1, len(data)) :\n",
    "#         if data.loc[i-1, 'position'] == 0 :\n",
    "#             if data.loc[i-1, 'sig'] == 1 :\n",
    "#                 data.loc[i, 'position'] = 1\n",
    "#             if data.loc[i-1, 'sig'] == 0 :\n",
    "#                 data.loc[i, 'position'] = 0\n",
    "#             if data.loc[i-1, 'sig'] == -1 :\n",
    "#                 data.loc[i, 'position'] = 0\n",
    "\n",
    "#         if data.loc[i-1, 'position'] == 1 :\n",
    "#             if data.loc[i-1, 'sig'] == 1 :\n",
    "#                 data.loc[i, 'position'] = 1\n",
    "#             if data.loc[i-1, 'sig'] == 0:\n",
    "#                 data.loc[i, 'position'] = 1\n",
    "#             if data.loc[i-1, 'sig'] == -1 :\n",
    "#                 data.loc[i, 'position'] = 0\n",
    "\n",
    "    #計算損益\n",
    "\n",
    "    for i in range(1, len(data)):\n",
    "        if (data['position'][i-1] == 0) & (data['position'][i] == 0):\n",
    "            data['principal'][i] = data['principal'][i-1]\n",
    "            #有買進要扣手續類\n",
    "        elif (data['position'][i-1] == 0) & (data['position'][i] == 1):\n",
    "            data['profit'][i] = (-fee)\n",
    "            data['principal'][i] = data['principal'][i-1] + (data['position'][i]*data['profit'][i])\n",
    "        elif (data['position'][i-1] == 1) & (data['position'][i] == 1):\n",
    "            #轉倉要要扣手續費\n",
    "            if data['date'][i] in np.array(td):\n",
    "                data['profit'][i] = data['point'][i]*50 - fee\n",
    "                data['principal'][i] = data['principal'][i-1] + (data['position'][i]*data['profit'][i])\n",
    "            else : \n",
    "                data['profit'][i] = data['point'][i]*50\n",
    "\n",
    "                data['principal'][i] = data['principal'][i-1] + (data['position'][i]*data['profit'][i])\n",
    "\n",
    "            #有賣出要扣手續費\n",
    "        elif (data['position'][i-1] == 1) & (data['position'][i] == 0):\n",
    "            data['profit'][i] = (data['point'][i]*50 * data['position'][i-1]) - fee\n",
    "            data['principal'][i] = data['principal'][i-1]+ (data['position'][i-1]*data['profit'][i])\n",
    "\n",
    "    #畫圖用資料        \n",
    "    data['high'] = data['principal'].cummax()\n",
    "    data['dd'] = ((data['principal']-data['high']))\n",
    "\n",
    "    return data"
   ]
  },
  {
   "cell_type": "code",
   "execution_count": 50,
   "id": "9e91da11",
   "metadata": {},
   "outputs": [],
   "source": [
    "def performance(data):\n",
    "    \n",
    "    principal = 100000\n",
    "    \n",
    "    if ((data['position'][data.index[-2]] == 1) & ((data['position'][data.index[-1]] == 1))) or ((data['position'][data.index[-2]] == 1) & ((data['position'][data.index[-1]] == 0))):\n",
    "        Return = np.round(((data['principal'][data.index[-2]] - principal)), 4)\n",
    "    else :\n",
    "        Return = np.round(((data['principal'][data.index[-1]] - principal)), 4)\n",
    "        \n",
    "    MDD = np.round((-data['dd'].min()), 4)\n",
    "    ret_to_MDD = np.round(Return/MDD, 2)\n",
    "    \n",
    "    #sp\n",
    "    \n",
    "    # ret_list = [0]\n",
    "    # for i in range(1, len(data)):\n",
    "    #     if data['principal'][i] != data['principal'][i-1]:\n",
    "    #         ret_list.append((data['principal'][i]-data['principal'][i-1])/data['principal'][i-1])\n",
    "            \n",
    "    ret_list = data['principal'].pct_change()\n",
    "\n",
    "    mean_ret = np.mean(ret_list)*252\n",
    "    std = (np.std(ret_list)*(252**0.5))\n",
    "    sp = round((mean_ret / std), 4)\n",
    "\n",
    "    \n",
    "    per = {\"Return\" : Return, \"MDD\" : MDD, \"Return to MDD\" : ret_to_MDD, \"Sharpe Ratio\" : sp}\n",
    "    \n",
    "    return per"
   ]
  },
  {
   "cell_type": "code",
   "execution_count": 51,
   "id": "40b5936f",
   "metadata": {},
   "outputs": [],
   "source": [
    "def plot(data, dictionary, name) :\n",
    "\n",
    "    #new equity high\n",
    "    eh = data[['date', 'high']]\n",
    "    eh = eh.drop_duplicates('high', keep = 'first')\n",
    "                            \n",
    "    fig = plt.figure(figsize=(14, 6)) \n",
    "    plt.subplot(2, 1, 1)\n",
    "    plt.grid(color = 'white')\n",
    "    plt.title('{} Return&MDD'.format(name),fontsize=20)\n",
    "    plt.plot(data['date'], data['principal'], color = 'red')\n",
    "    plt.plot(eh['date'], eh['high'],'o',color = 'limegreen', alpha = 0.5)\n",
    "    plt.legend(['Gain' , 'New equity high'], loc = 'best')\n",
    "    plt.text(data['date'][data.index[-200]], data['principal'].min(), 'Return: {}'.format(dictionary['Return'])+\\\n",
    "                                                                 \"\\nMDD: {}\".format(dictionary['MDD'])+\\\n",
    "                                                                 \"\\nReturn to MDD: {}\".format(dictionary['Return to MDD'])+\\\n",
    "                                                                 \"\\nSharpe Ratio: {}\".format(dictionary['Sharpe Ratio']), fontsize = 10, color='black')\n",
    "    # plt.axvline(x = pd.to_datetime(\"2020-01-01\"), color = \"grey\")  \n",
    "    \n",
    "    plt.subplot(2, 1, 2)\n",
    "    plt.grid(color = 'white')\n",
    "    plt.fill_between(data['date'], data['dd'], interpolate=True, color='red')\n",
    "    plt.legend(['dd'], loc = 'upper left')\n",
    "    # plt.axvline(x = pd.to_datetime(\"2020-01-01\"), color = \"grey\")\n",
    "    \n",
    "    plt.show()"
   ]
  },
  {
   "cell_type": "code",
   "execution_count": 52,
   "id": "9faf03bf",
   "metadata": {},
   "outputs": [],
   "source": [
    "def get_year(date):\n",
    "    \n",
    "    y = []\n",
    "    \n",
    "    for i in range(len(date)):\n",
    "        oneday = date[i]\n",
    "        year = oneday.year\n",
    "        y.append(year)\n",
    "        \n",
    "    return y"
   ]
  },
  {
   "cell_type": "code",
   "execution_count": 53,
   "id": "77dbf1f4",
   "metadata": {},
   "outputs": [],
   "source": [
    "def get_month(date):\n",
    "    \n",
    "    m = []\n",
    "    \n",
    "    for i in range(len(date)):\n",
    "        oneday = date[i]\n",
    "        month = oneday.month\n",
    "        m.append(month)\n",
    "        \n",
    "    return m"
   ]
  },
  {
   "cell_type": "markdown",
   "id": "e7c236f1",
   "metadata": {},
   "source": [
    "# 商品資料"
   ]
  },
  {
   "cell_type": "code",
   "execution_count": 54,
   "id": "d6c57a03",
   "metadata": {},
   "outputs": [],
   "source": [
    "# index =  pd.read_csv(\"D:\\TMBA\\加權指數.csv\")\n",
    "# index = index[['date', 'close']]\n",
    "# index['date'] = pd.to_datetime(index['date'])"
   ]
  },
  {
   "cell_type": "code",
   "execution_count": 55,
   "id": "15890373",
   "metadata": {
    "scrolled": true
   },
   "outputs": [],
   "source": [
    "future = pd.read_csv(\"D:\\TMBA\\期貨日成交資訊.csv\", low_memory = True)\n",
    "future = future[future['交易時段'] == \"position\"]\n",
    "future['日期'] = pd.to_datetime(future['日期'])\n",
    "# future = future[['日期', '開盤價', '收盤價']]\n",
    "# future.columns = ['date', '開盤價', 'close_f']\n",
    "# future.tail(10)"
   ]
  },
  {
   "cell_type": "markdown",
   "id": "e74aba1b",
   "metadata": {},
   "source": [
    "## 轉倉"
   ]
  },
  {
   "cell_type": "code",
   "execution_count": 56,
   "id": "c90fb2ee",
   "metadata": {},
   "outputs": [],
   "source": [
    "sett = pd.read_csv(\"D:\\TMBA\\結算日.csv\", encoding = 'ANSI')\n",
    "sett['最後結算日'] = pd.to_datetime(sett['最後結算日'])\n",
    "\n",
    "for i in range(len(sett)):\n",
    "    if len(sett['契約月份'][i]) != 6:\n",
    "        sett = sett.drop(i, axis = 0)\n",
    "        \n",
    "sett = sett['最後結算日']"
   ]
  },
  {
   "cell_type": "code",
   "execution_count": 57,
   "id": "66a2d521",
   "metadata": {},
   "outputs": [],
   "source": [
    "# #計算逆價差要的表格\n",
    "# df = pd.merge(index, future, on ='date', how = 'inner')\n",
    "# df = df[df['date'] < '2020-01-01']\n",
    "# df['spread'] = df['close_f']-df['close']"
   ]
  },
  {
   "cell_type": "code",
   "execution_count": 58,
   "id": "b0820cb5",
   "metadata": {},
   "outputs": [],
   "source": [
    "# # 逆價差\n",
    "# for i in range(0, 8):\n",
    "#     sett1 = sett\n",
    "#     sett2 = sett1 - datetime.timedelta(i)\n",
    "#     sett3 = pd.concat([sett, sett2], axis = 0).sort_values().reset_index().drop(\"index\", axis = 1)\n",
    "    \n",
    "#     df1 = df.copy()\n",
    "#     df1 = df1[df1['date'].isin(sett3)]\n",
    "    \n",
    "#     print(i, df1['spread'].sum(), df1['spread'].quantile(0.05))"
   ]
  },
  {
   "cell_type": "code",
   "execution_count": 59,
   "id": "6128d229",
   "metadata": {},
   "outputs": [],
   "source": [
    "#結算當天&最後結算日的日期\n",
    "sett2 = sett - datetime.timedelta(2)\n",
    "sett = pd.concat([sett, sett2], axis = 0).sort_values().reset_index().drop(\"index\", axis = 1)"
   ]
  },
  {
   "cell_type": "code",
   "execution_count": 60,
   "id": "93a2068d",
   "metadata": {
    "scrolled": true
   },
   "outputs": [],
   "source": [
    "#結算當天到最後結算日的資料 \n",
    "s = pd.DataFrame()\n",
    "for i in range(1, len(sett), 2):\n",
    "    \n",
    "    f1 = future.copy()\n",
    "    \n",
    "    f2 = f1[(f1['日期'] >= sett['最後結算日'][i-1]) & (f1['日期'] <= sett['最後結算日'][i])]\n",
    "    s = pd.concat([s, f2], axis = 0)\n",
    "\n",
    "s = s.reset_index().drop(\"index\", axis = 1)"
   ]
  },
  {
   "cell_type": "code",
   "execution_count": 61,
   "id": "2a9ff31d",
   "metadata": {},
   "outputs": [],
   "source": [
    "# #平倉後的資料\n",
    "# s['year'] = get_year(s['日期'])\n",
    "# s['month'] = get_month(s['日期'])\n",
    "# s1 = s.copy()\n",
    "# s11 = s.copy()\n",
    "\n",
    "# s2 = s.copy()\n",
    "# s3 = s.copy()\n",
    "# s4 = s.copy()\n",
    "\n",
    "# for i in range(len(s)):\n",
    "    \n",
    "#     sit1 = s1['到期月份'][i] != (str(s1['year'][i]) + \"0\" + str(s1['month'][i]))\n",
    "    \n",
    "#     sit2 = s2['到期月份'][i] != (str(s2['year'][i]) + \"0\" + str(s2['month'][i]+1))\n",
    "    \n",
    "#     #9月跨到年底\n",
    "#     if s3['month'][i] == 9 or 10 or 11 :\n",
    "#         sit11 = s1['到期月份'][i] != (str(s1['year'][i]) + str(s1['month'][i]))\n",
    "#         sit3 = s3['到期月份'][i] != (str(s3['year'][i]) + str(s3['month'][i]+1))\n",
    "        \n",
    "#     #12月跨到隔年1月有問題    \n",
    "#     if s4['month'][i] == 12 :\n",
    "#         sit4 = (s4['到期月份'][i] != (str(s4['year'][i]+1) + \"01\"))\n",
    "\n",
    "\n",
    "#     if (sit1):\n",
    "#         s1 = s1.drop(i, axis = 0)\n",
    "#     if (sit11) :\n",
    "#         s11 = s11.drop(i, axis = 0)\n",
    "#     if (sit2):\n",
    "#         s2 = s2.drop(i, axis = 0)\n",
    "#     if (sit3) : \n",
    "#         s3 = s3.drop(i, axis = 0)\n",
    "#     if (sit4) :\n",
    "#         s4 = s4.drop(i, axis = 0)"
   ]
  },
  {
   "cell_type": "code",
   "execution_count": 62,
   "id": "04dd3f99",
   "metadata": {},
   "outputs": [],
   "source": [
    "s['year'] = get_year(s['日期'])\n",
    "s['month'] = get_month(s['日期'])\n",
    "s1 = s.copy()\n",
    "s2 = s.copy()\n",
    "\n",
    "for i in range(len(s)):\n",
    "    \n",
    "    if s1['到期月份'][i] != (str(s1['year'][i]) + \"0\" + str(s1['month'][i])):\n",
    "        s1 = s1.drop(i, axis = 0)\n",
    "    \n",
    "    if s2['到期月份'][i] != (str(s2['year'][i]) + \"0\" + str(s2['month'][i]+1)):\n",
    "        s2 = s2.drop(i, axis = 0)\n",
    "\n",
    "s1 = s1[s1['日期'].isin(sett2)]"
   ]
  },
  {
   "cell_type": "code",
   "execution_count": 63,
   "id": "a511d87b",
   "metadata": {},
   "outputs": [],
   "source": [
    "s11 = s.copy()\n",
    "s11 = s[(s['month'] == 10) | (s['month'] == 11) | (s['month'] == 12)].reset_index(drop=True)\n",
    "\n",
    "for i in range(len(s11)):\n",
    "    if s11['到期月份'][i] != (str(s11['year'][i]) + str(s11['month'][i])):\n",
    "            s11 = s11.drop(i, axis = 0)\n",
    "\n",
    "s11 = s11[s11['日期'].isin(sett2)]"
   ]
  },
  {
   "cell_type": "code",
   "execution_count": 64,
   "id": "3a1f9ad4",
   "metadata": {},
   "outputs": [],
   "source": [
    "s3 = s.copy()\n",
    "s3 = s[(s['month'] == 9) | (s['month'] == 10) | (s['month'] == 11)].reset_index(drop=True)\n",
    "\n",
    "for i in range(len(s3)):\n",
    "     if s3['到期月份'][i] != (str(s3['year'][i]) + str(s3['month'][i]+1)):\n",
    "            s3 = s3.drop(i, axis = 0)"
   ]
  },
  {
   "cell_type": "code",
   "execution_count": 65,
   "id": "34b7516d",
   "metadata": {},
   "outputs": [],
   "source": [
    "s4 = s.copy()\n",
    "s4 = s[s['month']==12].reset_index(drop=True)\n",
    "\n",
    "for i in range(len(s4)):\n",
    "    if s4['到期月份'][i] != (str(s4['year'][i]+1) + \"01\"):\n",
    "        s4 = s4.drop(i, axis = 0)"
   ]
  },
  {
   "cell_type": "code",
   "execution_count": 66,
   "id": "5d6e3eb0",
   "metadata": {},
   "outputs": [],
   "source": [
    "ss = pd.concat([s1, s11], axis = 0)\n",
    "ss = pd.concat([ss, s2], axis = 0)\n",
    "ss = pd.concat([ss, s3], axis = 0)\n",
    "ss = pd.concat([ss, s4], axis = 0).sort_values('日期')"
   ]
  },
  {
   "cell_type": "code",
   "execution_count": 67,
   "id": "b45d4517",
   "metadata": {},
   "outputs": [],
   "source": [
    "#轉倉資料併其他資料\n",
    "f1 = f1.drop_duplicates(\"日期\", keep = 'first').reset_index(drop = True)\n",
    "f1 = f1[~f1['日期'].isin(ss['日期'])]\n",
    "\n",
    "data = pd.concat([f1, ss], axis = 0).sort_values(['日期', '到期月份']).reset_index(drop = True)\n",
    "data = data.rename(columns = {\"日期\" : 'date'})"
   ]
  },
  {
   "cell_type": "markdown",
   "id": "913e7190",
   "metadata": {},
   "source": [
    "# 因子資料"
   ]
  },
  {
   "cell_type": "code",
   "execution_count": 68,
   "id": "69f2aa17",
   "metadata": {},
   "outputs": [],
   "source": [
    "# ms = pd.read_csv(\"D:\\實習\\統一期貨\\工作\\台股空頭因子\\融資融券.csv\")\n",
    "ms = pd.read_csv(\"D:\\TMBA\\整體市場融資融劵表.csv\")\n",
    "# inst = pd.read_csv(\"D:\\實習\\統一期貨\\工作\\台股空頭因子\\三大法人.csv\")\n",
    "vix = pd.read_csv(\"D:\\TMBA\\VIX_History.csv\")\n",
    "data_set = [ms, vix]\n",
    "\n",
    "for i in data_set:\n",
    "    i['date'] = pd.to_datetime(i['date'])"
   ]
  },
  {
   "cell_type": "code",
   "execution_count": 69,
   "id": "add6a839",
   "metadata": {},
   "outputs": [],
   "source": [
    "#券資比\n",
    "mp = ms[ms['name'] == 'MarginPurchase'].reset_index().drop('index', axis = 1)\n",
    "ss = ms[ms['name'] == 'ShortSale'].reset_index().drop('index', axis = 1)\n",
    "\n",
    "r = pd.DataFrame()\n",
    "r['date'] = mp['date']\n",
    "r['ratio'] = ss[['TodayBalance']] / mp[['TodayBalance']]"
   ]
  },
  {
   "cell_type": "code",
   "execution_count": 70,
   "id": "a58af060",
   "metadata": {},
   "outputs": [],
   "source": [
    "# num = pd.read_csv(\"D:\\TMBA\\家數資料.csv\")\n",
    "# num['date'] = pd.to_datetime(num['date'])"
   ]
  },
  {
   "cell_type": "code",
   "execution_count": 71,
   "id": "1b775207",
   "metadata": {},
   "outputs": [],
   "source": [
    "# #法人買賣超\n",
    "# local = inst[inst['name'] == 'Investment_Trust']\n",
    "# local['delta_l'] = local['buy'] - local['sell']\n",
    "# local = local[[\"date\", \"name\", \"buy\", \"sell\", \"delta_l\"]].reset_index().drop('index', axis = 1)\n",
    "\n",
    "# foreign = inst[inst['name'] == 'Foreign_Investor']"
   ]
  },
  {
   "cell_type": "code",
   "execution_count": 72,
   "id": "483f265b",
   "metadata": {},
   "outputs": [],
   "source": [
    "vix = vix[['date', 'CLOSE']]\n",
    "vix.columns = ['date', 'vix_close']"
   ]
  },
  {
   "cell_type": "markdown",
   "id": "d1dc2ecb",
   "metadata": {},
   "source": [
    "# 樣本內最佳化"
   ]
  },
  {
   "cell_type": "code",
   "execution_count": 73,
   "id": "faf4e50d",
   "metadata": {},
   "outputs": [],
   "source": [
    "# # 參數最佳化\n",
    "# vv = pd.DataFrame()   \n",
    "\n",
    "# for k in range(10, 31):\n",
    "#     for z in np.arange(10, 31) : \n",
    "#         data1 = data.copy()\n",
    "#         data1 = data1[data1['date'] <= \"2019-12-31\"]\n",
    "\n",
    "#         r['percentile'] = r['ratio'].rolling(k).mean()\n",
    "\n",
    "#         vix['mean_vix'] = vix['vix_close'].rolling(z).mean()\n",
    "\n",
    "#         data1 = pd.merge(data1, r, on = 'date', how = 'left')\n",
    "#         data1 = pd.merge(data1, vix, on = 'date', how = 'left')\n",
    "\n",
    "#         pos = [0, 0, 0]\n",
    "#         # buy_date = []\n",
    "#         buy_price = [0]\n",
    "#         # sell_date = []\n",
    "#         # sell_price = [0]\n",
    "\n",
    "#         for i in range(2, len(data1)-1):\n",
    "\n",
    "#             if (pos[-2] == 0) & (pos[-1] == 1) :\n",
    "#         #         buy_date.append(data1['date'][i])\n",
    "#                 buy_price.append(data1['開盤價'][i])\n",
    "\n",
    "\n",
    "#             #進場條件\n",
    "#             a = data1['vix_close'][i] < data1['mean_vix'][i]\n",
    "#             b = (data1['ratio'][i] < data1['percentile'][i])\n",
    "\n",
    "#             #出場條件\n",
    "#             c = data1['vix_close'][i] > data1['mean_vix'][i]\n",
    "#             d = (data1['ratio'][i] > data1['percentile'][i])\n",
    "#             e = (data1['開盤價'][i] < buy_price[-1]*0.97)\n",
    "\n",
    "#             #結算日不做進出場\n",
    "#             f = (data1['date'][i] not in np.array(sett2))\n",
    "\n",
    "#             #沒有持有部位的情況下\n",
    "#             if pos[-1] == 0 :\n",
    "#                 if (a&b&f) == True :\n",
    "#                     pos.append(pos[-1] + 1)\n",
    "#                 else :\n",
    "#                     pos.append(pos[-1])\n",
    "\n",
    "#             #在持有部位的情況下\n",
    "#             elif pos[-1] == 1 :\n",
    "#                 if (c&d&f) :\n",
    "#                      pos.append(pos[-1] - 1)\n",
    "#                 elif (e&f) : \n",
    "#                     pos.append(pos[-1] - 1)\n",
    "#                     # sell_date.append(data1['date'][i])\n",
    "#         #             sell_price.append(data1['開盤價'][i])\n",
    "#                 else :\n",
    "#                     pos.append(pos[-1])\n",
    "\n",
    "\n",
    "#         data1 = dd(data1, pos, sett2)\n",
    "\n",
    "#         if ((data1['position'][data1.index[-2]] == 1) & ((data1['position'][data1.index[-1]] == 1))) or ((data1['position'][data1.index[-2]] == 1) & ((data1['position'][data1.index[-1]] == 0))) :\n",
    "#             Return = np.round(((data1['principal'][data1.index[-2]] - 100000)/100000), 4)*100\n",
    "#         else :\n",
    "#             Return = np.round(((data1['principal'][data1.index[-1]] - 100000)/100000), 4)*100\n",
    "\n",
    "#         MDD = round((-data1['dd'].min()), 4)*100\n",
    "#         ret_to_MDD = (np.round(Return/MDD, 4))\n",
    "\n",
    "#         print(k, z, ret_to_MDD)\n",
    "#         per = {\"day_ratio\" : k, \"day_vix\" : z, \"ret\" : Return, \"MDD\" : MDD, \"rm\" : ret_to_MDD}\n",
    "#         vv = vv.append(per, ignore_index = True)"
   ]
  },
  {
   "cell_type": "code",
   "execution_count": 74,
   "id": "eed2cf23",
   "metadata": {},
   "outputs": [],
   "source": [
    "# vv = pd.read_csv(\"D:\\TMBA\\opt2.csv\", encoding = 'utf-8')\n",
    "\n",
    "# std_ret = round(np.std(vv['ret']), 4)\n",
    "# std_mdd = round(np.std(vv['MDD']), 4)\n",
    "# std_rm = round(np.std(vv['rm']), 4)\n",
    "\n",
    "# print('std_ret: {}'.format(std_ret)+\\\n",
    "#         \"\\nstd_mdd: {}\".format(std_mdd)+\\\n",
    "#         \"\\nstd_rm: {}\".format(std_rm))"
   ]
  },
  {
   "cell_type": "code",
   "execution_count": 75,
   "id": "0b6c60a9",
   "metadata": {},
   "outputs": [],
   "source": [
    "# from tkinter import Y\n",
    "# from mpl_toolkits.mplot3d import axes3d\n",
    "\n",
    "\n",
    "# fig = plt.figure(figsize=(8, 8))\n",
    "# ax = fig.add_subplot(projection='3d')\n",
    "\n",
    "# x = np.reshape(list(vv['day_ratio']), (21, 21))\n",
    "# y = np.reshape(list(vv['day_vix']), (21, 21))\n",
    "# z = np.reshape(list(vv['rm']), (21, 21))\n",
    "\n",
    "# ax.set_title(\"Return to MDD\", fontsize= 15)\n",
    "# ax.plot_surface(x, y, z, cmap = \"twilight\")\n",
    "# ax.set_xlabel(\"M days\", fontsize = 10)\n",
    "# ax.set_ylabel(\"N days\", fontsize = 10)\n",
    "# # ax.set_zlabel(\"Return to MDD\", fontsize = 10)\n",
    "\n",
    "# plt.show()"
   ]
  },
  {
   "cell_type": "code",
   "execution_count": 76,
   "id": "f6b9c0aa",
   "metadata": {},
   "outputs": [],
   "source": [
    "# fig = plt.figure(figsize=(14,10)) \n",
    "# plt.grid(color = 'white')\n",
    "\n",
    "\n",
    "# plt.subplot(3, 3, 1)\n",
    "# bins = np.linspace(39, 134, 50)\n",
    "# plt.hist(vv['ret'], bins, color = \"blue\")\n",
    "# plt.axvline(np.mean(vv['ret']), color = 'red')\n",
    "# plt.axvline((np.mean(vv['ret'])+std_ret), color = 'black')\n",
    "# plt.axvline((np.mean(vv['ret'])-std_ret), color = 'black')\n",
    "# plt.xlabel(\"Return\")\n",
    "# plt.ylabel(\"counts\")\n",
    "\n",
    "# plt.subplot(3, 3, 2)\n",
    "# plt.title('optimization data')\n",
    "# bins = np.linspace(19, 50, 50)\n",
    "# plt.hist(vv['MDD'], bins, color = \"blue\")\n",
    "# plt.axvline(np.mean(vv['MDD']), color = 'red')\n",
    "# plt.axvline((np.mean(vv['MDD'])+std_mdd), color = 'black')\n",
    "# plt.axvline((np.mean(vv['MDD'])-std_mdd), color = 'black')\n",
    "# plt.xlabel(\"MDD\")\n",
    "\n",
    "# plt.subplot(3, 3, 3)\n",
    "# bins = np.linspace(0.8, 6.3, 50)\n",
    "# plt.hist(vv['rm'], bins, color = \"blue\")\n",
    "# plt.axvline(np.mean(vv['rm']), color = 'red')\n",
    "# plt.axvline((np.mean(vv['rm'])+std_rm), color = 'black')\n",
    "# plt.axvline((np.mean(vv['rm'])-std_rm), color = 'black')\n",
    "# plt.xlabel(\"Return to MDD\")\n",
    "\n",
    "# plt.show()"
   ]
  },
  {
   "cell_type": "markdown",
   "id": "b479a516",
   "metadata": {},
   "source": [
    "# 樣本外"
   ]
  },
  {
   "cell_type": "code",
   "execution_count": 77,
   "id": "f70092d3",
   "metadata": {},
   "outputs": [
    {
     "name": "stderr",
     "output_type": "stream",
     "text": [
      "C:\\Users\\User\\AppData\\Local\\Temp\\ipykernel_15024\\1913962609.py:3: SettingWithCopyWarning: \n",
      "A value is trying to be set on a copy of a slice from a DataFrame.\n",
      "Try using .loc[row_indexer,col_indexer] = value instead\n",
      "\n",
      "See the caveats in the documentation: https://pandas.pydata.org/pandas-docs/stable/user_guide/indexing.html#returning-a-view-versus-a-copy\n",
      "  vix['mean_vix'] = vix['vix_close'].rolling(20).mean()\n"
     ]
    }
   ],
   "source": [
    "##輸入最佳參數組合\n",
    "r['percentile'] = r['ratio'].rolling(13).mean()\n",
    "vix['mean_vix'] = vix['vix_close'].rolling(20).mean()\n",
    "# foreign['acc_delta'] = (foreign['buy'] - foreign['sell']).rolling(30).sum()\n",
    "# foreign = foreign[[\"date\", \"name\", \"buy\", \"sell\", \"acc_delta\"]].reset_index().drop('index', axis = 1)"
   ]
  },
  {
   "cell_type": "code",
   "execution_count": 78,
   "id": "35964c8d",
   "metadata": {},
   "outputs": [],
   "source": [
    "data = pd.merge(data, r, on = 'date', how = 'left')\n",
    "# data = pd.merge(data, por, on = 'date', how = 'outer')\n",
    "data = pd.merge(data, vix, on = 'date', how = 'left')\n",
    "# data = pd.merge(data, num, on = 'date', how = 'left')\n",
    "\n",
    "# data = data[data['date'] >= \"2020-01-01\"].reset_index(drop = True)\n",
    "# data = data[(data['date'] >= \"2012-01-01\") & (data['date'] <= \"2014-01-01\")].reset_index(drop = True)"
   ]
  },
  {
   "cell_type": "code",
   "execution_count": 79,
   "id": "50d832e2",
   "metadata": {},
   "outputs": [],
   "source": [
    "# fig = plt.figure(figsize=(14, 6)) \n",
    "# plt.grid(color = 'white')\n",
    "\n",
    "# plt.subplot(3, 1, 1)\n",
    "# plt.title('Data Info', fontsize=20)\n",
    "# plt.plot(data['date'], data['開盤價'], color = 'black')\n",
    "# plt.legend([\"open\"])\n",
    "\n",
    "# plt.subplot(3, 1, 2)\n",
    "# plt.plot(data['date'], data['vix_close'], color = \"blue\")\n",
    "# plt.plot(data['date'], data['mean_vix'], color = \"red\")\n",
    "# plt.legend([\"vix\", 'vix_mean'], loc = 'upper left')\n",
    "\n",
    "# plt.subplot(3, 1, 3)\n",
    "# plt.bar(data['date'], data['ratio'], color = \"green\")\n",
    "# plt.plot(data['date'], data['percentile'], color = \"purple\")\n",
    "# plt.legend([\"ratio_mean\", 'ratio'], loc = 'upper left')\n",
    "\n",
    "# plt.show()"
   ]
  },
  {
   "cell_type": "code",
   "execution_count": 80,
   "id": "343ff1e1",
   "metadata": {},
   "outputs": [],
   "source": [
    "#不加碼版本\n",
    "#計算部位\n",
    "pos = [0, 0, 0]\n",
    "buy_date = []\n",
    "buy_price = [0]\n",
    "sell_date = []\n",
    "# sell_price = [0]\n",
    "\n",
    "for i in range(2, len(data)-1):\n",
    "    \n",
    "    if (pos[-2] == 0) & (pos[-1] == 1) :\n",
    "        buy_date.append(data['date'][i])\n",
    "        buy_price.append(data['開盤價'][i])\n",
    "    \n",
    "    \n",
    "    #進場條件\n",
    "    a = data['vix_close'][i] < data['mean_vix'][i]\n",
    "    b = (data['ratio'][i] < data['percentile'][i])\n",
    "    \n",
    "    #出場條件\n",
    "    c = data['vix_close'][i] > data['mean_vix'][i]\n",
    "    d = (data['ratio'][i] > data['percentile'][i])\n",
    "    e = (data['開盤價'][i] < buy_price[-1]*0.97)\n",
    "    \n",
    "    #結算日不做進出場\n",
    "    f = (data['date'][i] not in np.array(sett2))\n",
    "    \n",
    "    #沒有持有部位的情況下\n",
    "    if pos[-1] == 0 :\n",
    "        if (a&b&f) == True :\n",
    "            pos.append(pos[-1] + 1)\n",
    "        else :\n",
    "            pos.append(pos[-1])\n",
    "                \n",
    "    #在持有部位的情況下\n",
    "    elif pos[-1] == 1 :\n",
    "        if (c&d&f) :\n",
    "            pos.append(pos[-1] - 1)\n",
    "        elif (e&f) : \n",
    "            pos.append(pos[-1] - 1)\n",
    "            sell_date.append(data['date'][i+1])\n",
    "#             sell_price.append(data['開盤價'][i])\n",
    "        else :\n",
    "            pos.append(pos[-1])"
   ]
  },
  {
   "cell_type": "code",
   "execution_count": 81,
   "id": "c3642129",
   "metadata": {},
   "outputs": [
    {
     "name": "stderr",
     "output_type": "stream",
     "text": [
      "C:\\Users\\User\\AppData\\Local\\Temp\\ipykernel_15024\\2943327787.py:11: SettingWithCopyWarning: \n",
      "A value is trying to be set on a copy of a slice from a DataFrame\n",
      "\n",
      "See the caveats in the documentation: https://pandas.pydata.org/pandas-docs/stable/user_guide/indexing.html#returning-a-view-versus-a-copy\n",
      "  data['principal'][0] = principal\n",
      "C:\\Users\\User\\AppData\\Local\\Temp\\ipykernel_15024\\2943327787.py:35: SettingWithCopyWarning: \n",
      "A value is trying to be set on a copy of a slice from a DataFrame\n",
      "\n",
      "See the caveats in the documentation: https://pandas.pydata.org/pandas-docs/stable/user_guide/indexing.html#returning-a-view-versus-a-copy\n",
      "  data['principal'][i] = data['principal'][i-1]\n",
      "C:\\Users\\User\\AppData\\Local\\Temp\\ipykernel_15024\\2943327787.py:38: SettingWithCopyWarning: \n",
      "A value is trying to be set on a copy of a slice from a DataFrame\n",
      "\n",
      "See the caveats in the documentation: https://pandas.pydata.org/pandas-docs/stable/user_guide/indexing.html#returning-a-view-versus-a-copy\n",
      "  data['profit'][i] = (-fee)\n",
      "C:\\Users\\User\\AppData\\Local\\Temp\\ipykernel_15024\\2943327787.py:39: SettingWithCopyWarning: \n",
      "A value is trying to be set on a copy of a slice from a DataFrame\n",
      "\n",
      "See the caveats in the documentation: https://pandas.pydata.org/pandas-docs/stable/user_guide/indexing.html#returning-a-view-versus-a-copy\n",
      "  data['principal'][i] = data['principal'][i-1] + (data['position'][i]*data['profit'][i])\n",
      "C:\\Users\\User\\AppData\\Local\\Temp\\ipykernel_15024\\2943327787.py:46: SettingWithCopyWarning: \n",
      "A value is trying to be set on a copy of a slice from a DataFrame\n",
      "\n",
      "See the caveats in the documentation: https://pandas.pydata.org/pandas-docs/stable/user_guide/indexing.html#returning-a-view-versus-a-copy\n",
      "  data['profit'][i] = data['point'][i]*50\n",
      "C:\\Users\\User\\AppData\\Local\\Temp\\ipykernel_15024\\2943327787.py:48: SettingWithCopyWarning: \n",
      "A value is trying to be set on a copy of a slice from a DataFrame\n",
      "\n",
      "See the caveats in the documentation: https://pandas.pydata.org/pandas-docs/stable/user_guide/indexing.html#returning-a-view-versus-a-copy\n",
      "  data['principal'][i] = data['principal'][i-1] + (data['position'][i]*data['profit'][i])\n",
      "C:\\Users\\User\\AppData\\Local\\Temp\\ipykernel_15024\\2943327787.py:43: SettingWithCopyWarning: \n",
      "A value is trying to be set on a copy of a slice from a DataFrame\n",
      "\n",
      "See the caveats in the documentation: https://pandas.pydata.org/pandas-docs/stable/user_guide/indexing.html#returning-a-view-versus-a-copy\n",
      "  data['profit'][i] = data['point'][i]*50 - fee\n",
      "C:\\Users\\User\\AppData\\Local\\Temp\\ipykernel_15024\\2943327787.py:44: SettingWithCopyWarning: \n",
      "A value is trying to be set on a copy of a slice from a DataFrame\n",
      "\n",
      "See the caveats in the documentation: https://pandas.pydata.org/pandas-docs/stable/user_guide/indexing.html#returning-a-view-versus-a-copy\n",
      "  data['principal'][i] = data['principal'][i-1] + (data['position'][i]*data['profit'][i])\n",
      "C:\\Users\\User\\AppData\\Local\\Temp\\ipykernel_15024\\2943327787.py:52: SettingWithCopyWarning: \n",
      "A value is trying to be set on a copy of a slice from a DataFrame\n",
      "\n",
      "See the caveats in the documentation: https://pandas.pydata.org/pandas-docs/stable/user_guide/indexing.html#returning-a-view-versus-a-copy\n",
      "  data['profit'][i] = (data['point'][i]*50 * data['position'][i-1]) - fee\n",
      "C:\\Users\\User\\AppData\\Local\\Temp\\ipykernel_15024\\2943327787.py:53: SettingWithCopyWarning: \n",
      "A value is trying to be set on a copy of a slice from a DataFrame\n",
      "\n",
      "See the caveats in the documentation: https://pandas.pydata.org/pandas-docs/stable/user_guide/indexing.html#returning-a-view-versus-a-copy\n",
      "  data['principal'][i] = data['principal'][i-1]+ (data['position'][i-1]*data['profit'][i])\n"
     ]
    }
   ],
   "source": [
    "data = dd(data, pos, sett2)"
   ]
  },
  {
   "cell_type": "code",
   "execution_count": 82,
   "id": "9625b0ea",
   "metadata": {},
   "outputs": [
    {
     "data": {
      "image/png": "[encoded data removed]",
      "text/plain": [
       "<Figure size 1008x432 with 2 Axes>"
      ]
     },
     "metadata": {},
     "output_type": "display_data"
    }
   ],
   "source": [
    "plot(data, performance(data), 'CTA')"
   ]
  },
  {
   "cell_type": "code",
   "execution_count": 83,
   "id": "d2758566",
   "metadata": {},
   "outputs": [
    {
     "name": "stdout",
     "output_type": "stream",
     "text": [
      "Return: 935.55%\n",
      "MDD: 8180000.0%\n",
      "Return to MDD: 0.0\n",
      "Sharpe Ratio: 0.943\n",
      "profit factor: 4.2583\n",
      "times: 86\n",
      "win rate: 0.67\n",
      "mean day: 32.29\n"
     ]
    }
   ],
   "source": [
    "principal = 100000\n",
    "\n",
    "if ((data['position'][data.index[-2]] == 1) & ((data['position'][data.index[-1]] == 1))) or ((data['position'][data.index[-2]] == 1) & ((data['position'][data.index[-1]] == 0))) :\n",
    "    Return = np.round(((data['principal'][data.index[-2]] - principal)/principal), 4)*100\n",
    "else :\n",
    "    Return = np.round(((data['principal'][data.index[-1]] - principal)/principal), 4)*100\n",
    "\n",
    "MDD = np.round((-data['dd'].min()), 4)*100\n",
    "ret_to_MDD = (np.round(Return/MDD, 2))\n",
    "    \n",
    "trade_price = []\n",
    "date = []\n",
    "\n",
    "for i in range(1, len(data)):\n",
    "    if (data['position'][i-1] == 0) & (data['position'][i] == 1):\n",
    "        trade_price.append(data['principal'][i-1])\n",
    "        date.append(data['date'][i])\n",
    "    if (data['position'][i-1] == 1) & (data['position'][i] == 0) :\n",
    "        trade_price.append(data['principal'][i])\n",
    "        date.append(data['date'][i])\n",
    "\n",
    "trade = pd.DataFrame(date, columns = ['date'])\n",
    "trade['principal'] = trade_price\n",
    "\n",
    "#sp\n",
    "\n",
    "\n",
    "# ret_list = [0]\n",
    "# for i in range(1, len(data)):\n",
    "#     if data['principal'][i] != data['principal'][i-1]:\n",
    "#         ret_list.append((data['principal'][i]-data['principal'][i-1])/data['principal'][i-1])\n",
    "        \n",
    "ret_list = data['principal'].pct_change()\n",
    "mean_ret = (np.mean(ret_list))*252\n",
    "std = (np.std(ret_list)*(252**0.5))\n",
    "sp = np.round((mean_ret / std), 4)\n",
    "\n",
    "#確定是否算對 \n",
    "trade_point = []\n",
    "\n",
    "for i in range(1, len(trade), 2):\n",
    "    trade_point.append(round((trade['principal'][i]-trade['principal'][i-1]), 2))\n",
    "#         mean_ret = round(sum(trade_ret)/len(trade_ret), 3)\n",
    "#         sigma = round(np.std(trade_ret), 4)\n",
    "\n",
    "#毛利毛損\n",
    "gp = 0\n",
    "gl = 0\n",
    "\n",
    "for i in range(len(trade_point)):\n",
    "    if trade_point[i] > 0 :\n",
    "        gp += trade_point[i]\n",
    "    elif trade_point[i] < 0:\n",
    "        gl += trade_point[i]\n",
    "    \n",
    "pf = round((-gp/gl), 4)\n",
    "\n",
    "#勝率和交易次數\n",
    "win = 0    \n",
    "loss = 0\n",
    "for i in range(len(trade_point)):\n",
    "    if trade_point[i] > 0 :\n",
    "        win += 1\n",
    "    else :\n",
    "        loss +=1\n",
    "trade_times = win+loss\n",
    "    \n",
    "if trade_times == 0 :\n",
    "    win_rate = 0\n",
    "elif trade_times != 0 :    \n",
    "    win_rate = round(win/(trade_times), 2)\n",
    "\n",
    "\n",
    "#平均持有時間\n",
    "day = []\n",
    "\n",
    "for i in range(1, len(trade), 2):\n",
    "    date1 = datetime.datetime.strptime(str(trade['date'][i-1])[0:10], \"%Y-%m-%d\")\n",
    "    date2 = datetime.datetime.strptime(str(trade['date'][i])[0:10], \"%Y-%m-%d\")\n",
    "    num = (date2 - date1).days\n",
    "    day.append(num)\n",
    "    mean_day = np.round(np.mean(day), 2)\n",
    "\n",
    "print('Return: {}%'.format(Return) +\\\n",
    "          \"\\nMDD: {}%\".format(MDD) +\\\n",
    "          \"\\nReturn to MDD: {}\".format(ret_to_MDD) +\\\n",
    "          \"\\nSharpe Ratio: {}\".format(sp)+\\\n",
    "          \"\\nprofit factor: {}\".format(pf) +\\\n",
    "          \"\\ntimes: {}\".format(trade_times) +\\\n",
    "          \"\\nwin rate: {}\".format(win_rate) +\\\n",
    "          \"\\nmean day: {}\".format(mean_day))"
   ]
  },
  {
   "cell_type": "code",
   "execution_count": 84,
   "id": "e90e5e30",
   "metadata": {},
   "outputs": [
    {
     "name": "stderr",
     "output_type": "stream",
     "text": [
      "C:\\Users\\User\\AppData\\Local\\Temp\\ipykernel_15024\\2207762227.py:18: SettingWithCopyWarning: \n",
      "A value is trying to be set on a copy of a slice from a DataFrame.\n",
      "Try using .loc[row_indexer,col_indexer] = value instead\n",
      "\n",
      "See the caveats in the documentation: https://pandas.pydata.org/pandas-docs/stable/user_guide/indexing.html#returning-a-view-versus-a-copy\n",
      "  a['profit'] = trade_point\n"
     ]
    },
    {
     "data": {
      "image/png": "[encoded data removed]",
      "text/plain": [
       "<Figure size 1008x432 with 2 Axes>"
      ]
     },
     "metadata": {},
     "output_type": "display_data"
    }
   ],
   "source": [
    "# 買賣訊號\n",
    "buy_mark = [np.nan]\n",
    "sell_mark = [np.nan]\n",
    "for i in range(1, len(data)):\n",
    "    if (data['position'][i-1] == 0) & (data['position'][i] == 1):\n",
    "        buy_mark.append(data['開盤價'][i])\n",
    "    else :\n",
    "        buy_mark.append(np.nan)\n",
    "            \n",
    "for i in range(1, len(data)) : \n",
    "    if (data['position'][i-1] == 1) & (data['position'][i] == 0):\n",
    "        sell_mark.append(data['開盤價'][i])\n",
    "    else :\n",
    "        sell_mark.append(np.nan)\n",
    "\n",
    "#每次損益\n",
    "a = trade.iloc[1::2]\n",
    "a['profit'] = trade_point\n",
    "a = a.reset_index(drop=True)\n",
    "\n",
    "gain = a[a['profit'] > 0]\n",
    "loss = a[a['profit'] < 0]\n",
    "\n",
    "#畫圖\n",
    "fig = plt.figure(figsize=(14, 6))\n",
    "\n",
    "plt.subplot(2, 1, 1)\n",
    "plt.title('Profit per Trade')\n",
    "plt.plot(data['date'], data['開盤價'], color = 'black')\n",
    "plt.plot(data['date'], buy_mark, 'o', color='red', alpha = 1)\n",
    "plt.plot(data['date'], sell_mark, 'o', color='green', alpha = 1)\n",
    "plt.legend(['price', 'buy' , 'sell'], loc = 'best')\n",
    "\n",
    "plt.subplot(2, 1, 2)\n",
    "plt.bar(gain['date'], gain['profit'], 40, align='center', color='r')\n",
    "plt.bar(loss['date'], loss['profit'], 40, align='center', color='g')\n",
    "plt.show()"
   ]
  },
  {
   "cell_type": "code",
   "execution_count": 85,
   "id": "afc05ac0",
   "metadata": {},
   "outputs": [
    {
     "data": {
      "image/png": "[encoded data removed]",
      "text/plain": [
       "<Figure size 1008x432 with 2 Axes>"
      ]
     },
     "metadata": {},
     "output_type": "display_data"
    }
   ],
   "source": [
    "#不同市場下的損益\n",
    "a['year'] = get_year(a['date'])\n",
    "a['month'] = get_month(a['date'])\n",
    "\n",
    "profit_year = a[['date', 'profit']].groupby(pd.Grouper(key=\"date\", freq=\"YS\")).sum()\n",
    "profit_year_gain = profit_year[profit_year['profit'] > 0]\n",
    "profit_year_loss = profit_year[profit_year['profit'] < 0]\n",
    "\n",
    "fig, ax1 = plt.subplots(figsize=(14, 6))\n",
    "plt.grid(color = 'white')\n",
    "plt.title('Annual Profit', fontsize=20)\n",
    "\n",
    "ax2 = ax1.twinx()\n",
    "\n",
    "ax1.plot(data['date'], data['開盤價'], color = 'black')\n",
    "\n",
    "for i in profit_year.index[1:] : \n",
    "    ax1.axvline(x = i, color = \"grey\")  \n",
    "ax1.tick_params(axis='y')\n",
    "\n",
    "\n",
    "ax2.bar(profit_year_gain.index + datetime.timedelta(180) , profit_year_gain['profit'], 75,align='center', color='r')\n",
    "ax2.bar(profit_year_loss.index + datetime.timedelta(180), profit_year_loss['profit'], 75, align='center', color='g')\n",
    "ax2.tick_params(axis='y')\n",
    "\n",
    "plt.show()"
   ]
  },
  {
   "cell_type": "markdown",
   "id": "a28134b6",
   "metadata": {},
   "source": [
    "# 績效過程"
   ]
  },
  {
   "cell_type": "code",
   "execution_count": 86,
   "id": "20ca4d3b",
   "metadata": {},
   "outputs": [
    {
     "data": {
      "text/plain": [
       "0          NaN\n",
       "1     0.468000\n",
       "2     0.659401\n",
       "3     0.407020\n",
       "4     0.068417\n",
       "5    -0.135309\n",
       "6     0.207327\n",
       "7     0.141381\n",
       "8    -0.001948\n",
       "9     0.092767\n",
       "10    0.122190\n",
       "11   -0.027245\n",
       "12    0.184601\n",
       "13    0.331573\n",
       "14    0.206663\n",
       "15    0.049656\n",
       "Name: principal, dtype: float64"
      ]
     },
     "execution_count": 86,
     "metadata": {},
     "output_type": "execute_result"
    }
   ],
   "source": [
    "#績效過程\n",
    "data['year'] = get_year(data['date'])\n",
    "process = []\n",
    "\n",
    "for i in range(1, len(data)):\n",
    "    if i == 1 :\n",
    "        process.append(data['date'][i])\n",
    "    elif data['year'][i] != data['year'][i-1]:\n",
    "        process.append(data['date'][i-1])\n",
    "        # process.append(data['date'][i])\n",
    "    elif i == (len(data)-1):\n",
    "        process.append(data['date'][i])\n",
    "\n",
    "b = data[data['date'].isin(process)].reset_index(drop= True)\n",
    "pr = b['principal'].pct_change()\n",
    "pr"
   ]
  },
  {
   "cell_type": "code",
   "execution_count": 87,
   "id": "1a78fdb1",
   "metadata": {},
   "outputs": [
    {
     "data": {
      "text/plain": [
       "[33000.0,\n",
       " 60250.0,\n",
       " 55850.0,\n",
       " 32300.0,\n",
       " 33000.0,\n",
       " 78050.0,\n",
       " 81800.0,\n",
       " 31050.0,\n",
       " 38650.0,\n",
       " 49100.0,\n",
       " 20400.0,\n",
       " 57000.0,\n",
       " 52850.0,\n",
       " 22700.0,\n",
       " 45100.0,\n",
       " 39350.0]"
      ]
     },
     "execution_count": 87,
     "metadata": {},
     "output_type": "execute_result"
    }
   ],
   "source": [
    "year_list = [2011]\n",
    "for i in b['year']:\n",
    "    if i != year_list[-1]:\n",
    "        year_list.append(i)\n",
    "\n",
    "pm = []\n",
    "for i in year_list:\n",
    "    year_df = data[data['year'] == i]\n",
    "    Mdd = round(-(year_df['dd'].min()), 4)\n",
    "    pm.append(Mdd)\n",
    "pm"
   ]
  },
  {
   "cell_type": "code",
   "execution_count": 88,
   "id": "2d6b52dd",
   "metadata": {},
   "outputs": [
    {
     "data": {
      "text/plain": [
       "year\n",
       "2008    6\n",
       "2009    7\n",
       "2010    8\n",
       "2011    7\n",
       "2012    7\n",
       "2013    4\n",
       "2014    4\n",
       "2015    7\n",
       "2016    7\n",
       "2017    6\n",
       "2018    5\n",
       "2019    5\n",
       "2020    5\n",
       "2021    4\n",
       "2022    4\n",
       "Name: date, dtype: int64"
      ]
     },
     "execution_count": 88,
     "metadata": {},
     "output_type": "execute_result"
    }
   ],
   "source": [
    "#每年交易次數\n",
    "a.groupby(\"year\").count()['date']"
   ]
  },
  {
   "cell_type": "code",
   "execution_count": 89,
   "id": "a1b12a41",
   "metadata": {},
   "outputs": [],
   "source": [
    "# data['point'] = (data['開盤價']- data['開盤價'].shift(1)).shift(-1)\n",
    "# data['profit'] = 0\n",
    "# data['sig']  = sig2\n",
    "# data['position'] = 0\n",
    "# data['principal'] = np.nan\n",
    "# data['principal'][0] = 100000\n",
    "# data[['date', '開盤價', 'point', 'sig', 'position', 'profit', 'principal']].head(200)"
   ]
  },
  {
   "cell_type": "code",
   "execution_count": 90,
   "id": "9331c8d0",
   "metadata": {},
   "outputs": [],
   "source": [
    "# sig2 = [0]\n",
    "\n",
    "# for i in range(1, len(data)):\n",
    "            \n",
    "            \n",
    "# #     a = (data['acc_delta'][i] > 0 )\n",
    "#     b = data['vix_close'][i] < data['mean_vix'][i]\n",
    "# #     c = (data['delta_l'][i] > 0)  \n",
    "# #     d = (data['delta_f'][i-1] < 0)  \n",
    "#     e = (data['ratio'][i] < data['percentile'][i])\n",
    "#     f = (data['ratio'][i] > data['percentile'][i])\n",
    "# #     g = (data['delta_f'][i] < 0)\n",
    "#     h = data['vix_close'][i] > data['mean_vix'][i]\n",
    "# #     x =  data['vix_close'][i] > data['upper'][i]\n",
    "# #     y = (data['acc_delta'][i] < 0)\n",
    "\n",
    "\n",
    "# #     sit1 = (data['date'][i] not in np.array(sett2))\n",
    "#     sit1 = (data['date'][i] in np.array(sett2))\n",
    "    \n",
    "#     #轉倉日不做進出場\n",
    "#     if sit1 == True:\n",
    "#         sig2.append(0)\n",
    "#     elif (b&e) == True:\n",
    "#         sig2.append(1)\n",
    "#     elif (h&f)  == True:\n",
    "#         sig2.append(-1)\n",
    "#     else :\n",
    "#         sig2.append(0)"
   ]
  },
  {
   "cell_type": "code",
   "execution_count": 91,
   "id": "4a559078",
   "metadata": {},
   "outputs": [],
   "source": [
    "# # 計算部位\n",
    "# for i in range(1, len(data)) :\n",
    "#     if data.loc[i-1, 'position'] == 0 :\n",
    "#         if data.loc[i-1, 'sig'] == 1 :\n",
    "#             data.loc[i, 'position'] = 1\n",
    "#         if data.loc[i-1, 'sig'] == 0 :\n",
    "#             data.loc[i, 'position'] = 0\n",
    "#         if data.loc[i-1, 'sig'] == -1 :\n",
    "#             data.loc[i, 'position'] = 0\n",
    "\n",
    "#     if data.loc[i-1, 'position'] == 1 :\n",
    "#         if data.loc[i-1, 'sig'] == 1 :\n",
    "#             data.loc[i, 'position'] = 1\n",
    "#         if data.loc[i-1, 'sig'] == 0:\n",
    "#             data.loc[i, 'position'] = 1\n",
    "#         if data.loc[i-1, 'sig'] == -1 :\n",
    "#             data.loc[i, 'position'] = 0"
   ]
  },
  {
   "cell_type": "code",
   "execution_count": 92,
   "id": "35b2b222",
   "metadata": {},
   "outputs": [],
   "source": [
    "# # data = data[['date', '開盤價', 'point', 'profit', 'sig', 'position', 'principal']]\n",
    "\n",
    "# fee = 600\n",
    "\n",
    "\n",
    "# for i in range(1, len(data)):\n",
    "#     if (data['position'][i-1] == 0) & (data['position'][i] == 0):\n",
    "#         data['principal'][i] = data['principal'][i-1]\n",
    "#         #有買進要扣手續類\n",
    "#     elif (data['position'][i-1] == 0) & (data['position'][i] == 1):\n",
    "#         data['profit'][i] = data['point'][i]*200 - fee\n",
    "#         data['principal'][i] = data['principal'][i-1] + (data['position'][i]*data['profit'][i])\n",
    "#     elif (data['position'][i-1] == 1) & (data['position'][i] == 1):\n",
    "#         #轉倉要要扣手續費\n",
    "#         if data['date'][i] in np.array(sett2):\n",
    "#             data['profit'][i] = data['point'][i]*200 - fee\n",
    "#         else : \n",
    "#             data['profit'][i] = data['point'][i]*200\n",
    "        \n",
    "#         data['principal'][i] = data['principal'][i-1] + (data['position'][i]*data['profit'][i])\n",
    "        \n",
    "#         #有賣出要扣手續費\n",
    "#     elif (data['position'][i-1] == 1) & (data['position'][i] == 0):\n",
    "#         data['profit'][i] = data['point'][i]*200 - fee\n",
    "#         data['principal'][i] = data['principal'][i-1]+ (data['position'][i]*data['profit'][i])\n",
    "        \n",
    "# data['high'] = data['principal'].cummax()\n",
    "# data['dd'] = ((data['principal']-data['high'])/data['high'])"
   ]
  },
  {
   "cell_type": "code",
   "execution_count": 93,
   "id": "44198fc1",
   "metadata": {},
   "outputs": [],
   "source": [
    "# data = dd(data, sig2)\n",
    "# data"
   ]
  },
  {
   "cell_type": "code",
   "execution_count": 94,
   "id": "99454313",
   "metadata": {
    "scrolled": true
   },
   "outputs": [],
   "source": [
    "# plot(data, performance(data), \"CTA\")"
   ]
  }
 ],
 "metadata": {
  "kernelspec": {
   "display_name": "Python 3.9.12 ('base')",
   "language": "python",
   "name": "python3"
  },
  "language_info": {
   "codemirror_mode": {
    "name": "ipython",
    "version": 3
   },
   "file_extension": ".py",
   "mimetype": "text/x-python",
   "name": "python",
   "nbconvert_exporter": "python",
   "pygments_lexer": "ipython3",
   "version": "3.9.12"
  },
  "vscode": {
   "interpreter": {
    "hash": "f08154012ddadd8e950e6e9e035c7a7b32c136e7647e9b7c77e02eb723a8bedb"
   }
  }
 },
 "nbformat": 4,
 "nbformat_minor": 5
}
